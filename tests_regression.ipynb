{
 "cells": [
  {
   "cell_type": "code",
   "execution_count": 35,
   "metadata": {},
   "outputs": [],
   "source": [
    "from pyspark.sql import SparkSession\n",
    "from pyspark.sql.types import *\n",
    "from pyspark.ml.regression import LinearRegression"
   ]
  },
  {
   "cell_type": "code",
   "execution_count": 2,
   "metadata": {},
   "outputs": [],
   "source": [
    "spark = SparkSession.builder.master(\"local[*]\").appName('test').getOrCreate()"
   ]
  },
  {
   "cell_type": "code",
   "execution_count": 3,
   "metadata": {},
   "outputs": [],
   "source": [
    "DATA_PATH = './sales.csv'"
   ]
  },
  {
   "cell_type": "code",
   "execution_count": 31,
   "metadata": {},
   "outputs": [],
   "source": [
    "df = spark.read.csv(DATA_PATH, sep=',', header=True)\n",
    "df = df.withColumn('rank', df['Rank'].cast(IntegerType()))\n",
    "df = df.withColumn('name', df['Name'])\n",
    "df = df.withColumn('platform', df['Platform'])\n",
    "df = df.withColumn('year', df['Year'].cast(DoubleType()))\n",
    "df = df.withColumn('publisher', df['Publisher'])\n",
    "df = df.withColumn('na_sales', df['NA_Sales'].cast(DoubleType()))\n",
    "df = df.withColumn('eu_sales', df['EU_Sales'].cast(DoubleType()))\n",
    "df = df.withColumn('jp_sales', df['JP_Sales'].cast(DoubleType()))\n",
    "df = df.withColumn('other_sales', df['Other_Sales'].cast(DoubleType()))\n",
    "df = df.withColumn('global_sales', df['Global_Sales'].cast(DoubleType()))"
   ]
  },
  {
   "cell_type": "code",
   "execution_count": 32,
   "metadata": {},
   "outputs": [
    {
     "name": "stdout",
     "output_type": "stream",
     "text": [
      "root\n",
      " |-- rank: integer (nullable = true)\n",
      " |-- name: string (nullable = true)\n",
      " |-- platform: string (nullable = true)\n",
      " |-- year: double (nullable = true)\n",
      " |-- Genre: string (nullable = true)\n",
      " |-- publisher: string (nullable = true)\n",
      " |-- na_sales: double (nullable = true)\n",
      " |-- eu_sales: double (nullable = true)\n",
      " |-- jp_sales: double (nullable = true)\n",
      " |-- other_sales: double (nullable = true)\n",
      " |-- global_sales: double (nullable = true)\n",
      "\n"
     ]
    }
   ],
   "source": [
    "df.printSchema()"
   ]
  },
  {
   "cell_type": "code",
   "execution_count": 34,
   "metadata": {},
   "outputs": [
    {
     "name": "stdout",
     "output_type": "stream",
     "text": [
      "+----+--------------------+--------+------+------------+---------+--------+--------+--------+-----------+------------+\n",
      "|rank|                name|platform|  year|       Genre|publisher|na_sales|eu_sales|jp_sales|other_sales|global_sales|\n",
      "+----+--------------------+--------+------+------------+---------+--------+--------+--------+-----------+------------+\n",
      "|   1|          Wii Sports|     Wii|2006.0|      Sports| Nintendo|   41.49|   29.02|    3.77|       8.46|       82.74|\n",
      "|   2|   Super Mario Bros.|     NES|1985.0|    Platform| Nintendo|   29.08|    3.58|    6.81|       0.77|       40.24|\n",
      "|   3|      Mario Kart Wii|     Wii|2008.0|      Racing| Nintendo|   15.85|   12.88|    3.79|       3.31|       35.82|\n",
      "|   4|   Wii Sports Resort|     Wii|2009.0|      Sports| Nintendo|   15.75|   11.01|    3.28|       2.96|        33.0|\n",
      "|   5|Pokemon Red/Pokem...|      GB|1996.0|Role-Playing| Nintendo|   11.27|    8.89|   10.22|        1.0|       31.37|\n",
      "|   6|              Tetris|      GB|1989.0|      Puzzle| Nintendo|    23.2|    2.26|    4.22|       0.58|       30.26|\n",
      "|   7|New Super Mario B...|      DS|2006.0|    Platform| Nintendo|   11.38|    9.23|     6.5|        2.9|       30.01|\n",
      "|   8|            Wii Play|     Wii|2006.0|        Misc| Nintendo|   14.03|     9.2|    2.93|       2.85|       29.02|\n",
      "|   9|New Super Mario B...|     Wii|2009.0|    Platform| Nintendo|   14.59|    7.06|     4.7|       2.26|       28.62|\n",
      "|  10|           Duck Hunt|     NES|1984.0|     Shooter| Nintendo|   26.93|    0.63|    0.28|       0.47|       28.31|\n",
      "+----+--------------------+--------+------+------------+---------+--------+--------+--------+-----------+------------+\n",
      "only showing top 10 rows\n",
      "\n"
     ]
    }
   ],
   "source": [
    "df.show(10)"
   ]
  },
  {
   "cell_type": "code",
   "execution_count": 16,
   "metadata": {},
   "outputs": [],
   "source": [
    "# [x[0] for x in df.select('EU_Sales').collect()]"
   ]
  },
  {
   "cell_type": "code",
   "execution_count": null,
   "metadata": {},
   "outputs": [],
   "source": []
  }
 ],
 "metadata": {
  "kernelspec": {
   "display_name": "python-ml",
   "language": "python",
   "name": "python-ml"
  },
  "language_info": {
   "codemirror_mode": {
    "name": "ipython",
    "version": 3
   },
   "file_extension": ".py",
   "mimetype": "text/x-python",
   "name": "python",
   "nbconvert_exporter": "python",
   "pygments_lexer": "ipython3",
   "version": "3.7.7"
  }
 },
 "nbformat": 4,
 "nbformat_minor": 4
}
